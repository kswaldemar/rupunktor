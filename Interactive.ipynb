{
 "cells": [
  {
   "cell_type": "markdown",
   "metadata": {},
   "source": [
    "## Playing with model"
   ]
  },
  {
   "cell_type": "code",
   "execution_count": 1,
   "metadata": {},
   "outputs": [
    {
     "name": "stderr",
     "output_type": "stream",
     "text": [
      "/home/valdemar/Development/Projects/master-thesis-dev/ml3/lib/python3.5/site-packages/h5py/__init__.py:36: FutureWarning: Conversion of the second argument of issubdtype from `float` to `np.floating` is deprecated. In future, it will be treated as `np.float64 == np.dtype(float).type`.\n",
      "  from ._conv import register_converters as _register_converters\n",
      "Using Theano backend.\n",
      "WARNING (theano.tensor.blas): Using NumPy C-API based implementation for BLAS functions.\n",
      "Using cuDNN version 7103 on context None\n",
      "Mapped name None to device cuda: GeForce GT 650M (0000:01:00.0)\n",
      "/home/valdemar/Development/Projects/master-thesis-dev/ml3/lib/python3.5/site-packages/keras/layers/core.py:642: UserWarning: `output_shape` argument not specified for layer lambda_2 and cannot be automatically inferred with the Theano backend. Defaulting to output shape `(None, None, 3)` (same as input shape). If the expected output shape is different, specify it via the `output_shape` argument.\n",
      "  .format(self.name, input_shape))\n"
     ]
    }
   ],
   "source": [
    "from rupunktor.interaction import InteractWrapper\n",
    "w = InteractWrapper('bundles/augmented_128/')"
   ]
  },
  {
   "cell_type": "code",
   "execution_count": 39,
   "metadata": {},
   "outputs": [],
   "source": [
    "opts = dict(show_unknown=False, show_confidence=True, lowercase=True)"
   ]
  },
  {
   "cell_type": "code",
   "execution_count": 11,
   "metadata": {},
   "outputs": [],
   "source": [
    "process = lambda s: w.process_text(s, **opts)"
   ]
  },
  {
   "cell_type": "code",
   "execution_count": 41,
   "metadata": {},
   "outputs": [
    {
     "data": {
      "application/vnd.jupyter.widget-view+json": {
       "model_id": "e6c6b1efbb9a454ebef63f6f98894010",
       "version_major": 2,
       "version_minor": 0
      },
      "text/plain": [
       "Text(value='', description='Type text')"
      ]
     },
     "metadata": {},
     "output_type": "display_data"
    },
    {
     "name": "stdout",
     "output_type": "stream",
     "text": [
      "\n",
      "Письмо о состоянии здоровья дональда трампа в самом начале борьбы за президентский пост было написано врачом под диктовку самого будущего президента.(p:1.00) Об этом,(p:0.97) как передает cnn,(p:0.83) рассказал бывший личный врач трампа харольд борнстейн\n"
     ]
    }
   ],
   "source": [
    "from ipywidgets import widgets, interact\n",
    "from IPython.display import display\n",
    "text = widgets.Text(description=\"Type text\")\n",
    "def handle_submit(sender):\n",
    "    print('')\n",
    "    print(w.process_text(text.value, **opts))\n",
    "\n",
    "text.on_submit(handle_submit)\n",
    "display(text)"
   ]
  },
  {
   "cell_type": "code",
   "execution_count": 44,
   "metadata": {},
   "outputs": [
    {
     "data": {
      "text/plain": [
       "'Категория слов языка,(p:0.96) определяемая морфологическими и синтаксическими признаками в языках мира,(p:0.99) прежде всего противопоставляются имя и глагол в большинстве языков.(p:0.98) Общепринято.(p:0.47) Также деление частей речи на самостоятельные и служебные'"
      ]
     },
     "execution_count": 44,
     "metadata": {},
     "output_type": "execute_result"
    }
   ],
   "source": [
    "process('''\n",
    "Категория слов языка, определяемая морфологическими и синтаксическими признаками. \n",
    "В языках мира прежде всего противопоставляются имя и глагол, в большинстве языков общепринято \n",
    "также деление частей речи на самостоятельные и служебные\n",
    "''')"
   ]
  },
  {
   "cell_type": "code",
   "execution_count": 40,
   "metadata": {},
   "outputs": [
    {
     "data": {
      "text/plain": [
       "'Вы любите мечтать,(p:0.57) иногда о мудрости патриархов,(p:0.98) у которых нет ни желаний,(p:0.50) ни чувств,(p:0.82) ни даже ощущений.(p:0.95) Бесплотный разум мозг-дальтоник великий логик.(p:0.93) Логические методы требуют абсолютной сосредоточенности.(p:0.48) Для того,(p:0.93) чтобы что-нибудь сделать в науке приходится днем и ночью думать об одном и том же читать об одном и том же говорить об одном и том же.(p:0.90) А куда уйдешь от своей психической призмы от врожденной способности чувствовать ведь нужно любить нужно читать о любви,(p:0.59) нужны зеленые холмы,(p:0.98) музыка,(p:0.79) картины,(p:0.58) неудовлетворенность страх.(p:0.64) Зависть.(p:0.57) Вы пытаетесь ограничить себя и теряете огромный кусок счастья,(p:0.51) и вы прекрасно сознаете,(p:1.00) что вы его теряете и тогда,(p:0.99) чтобы вытравить в себе это сознание и прекратить мучительную раздвоенность.(p:0.84) Вы оскопляете себя.(p:0.69) Вы отрываете от себя всю эмоциональную половину человечьего и оставляете только одну реакцию на окружающий мир.(p:0.95) сомнение'"
      ]
     },
     "execution_count": 40,
     "metadata": {},
     "output_type": "execute_result"
    }
   ],
   "source": [
    "process('''\n",
    "Вы любите мечтать иногда о мудрости патриархов, у которых нет ни желаний, ни чувств, ни даже ощущений. \n",
    "Бесплотный разум. \n",
    "Мозг-дальтоник. \n",
    "Великий Логик. \n",
    "Логические методы требуют абсолютной сосредоточенности. \n",
    "Для того чтобы что-нибудь сделать в науке, приходится днем и ночью думать об одном и том же, читать об одном и том же, говорить об одном и том же \n",
    "А куда уйдешь от своей психической призмы.\n",
    "От врожденной способности чувствовать.\n",
    "Ведь нужно любить, нужно читать о любви, нужны зеленые холмы, музыка, картины, неудовлетворенность, \n",
    "страх, зависть. \n",
    "Вы пытаетесь ограничить себя и теряете огромный кусок счастья. \n",
    "И вы прекрасно сознаете, что вы его теряете. \n",
    "И тогда, чтобы вытравить в себе это сознание и прекратить мучительную раздвоенность, вы оскопляете себя. \n",
    "Вы отрываете от себя всю эмоциональную половину человечьего и оставляете только одну реакцию на окружающий мир \n",
    "сомнение\n",
    "''')"
   ]
  },
  {
   "cell_type": "code",
   "execution_count": 33,
   "metadata": {},
   "outputs": [
    {
     "data": {
      "text/plain": [
       "'В институте тепло уютно, работа чистая, уважаемая, платят неплохо. Люди прекрасные, а стыд глаза не выест'"
      ]
     },
     "execution_count": 33,
     "metadata": {},
     "output_type": "execute_result"
    }
   ],
   "source": [
    "process('''\n",
    "в институте тепло, уютно, работа чистая, уважаемая платят неплохо, люди прекрасные, а стыд глаза не выест\n",
    "''')"
   ]
  },
  {
   "cell_type": "code",
   "execution_count": 32,
   "metadata": {},
   "outputs": [
    {
     "data": {
      "text/plain": [
       "'Кошмар, который он разглядел. Продолжался в течение великой депрессии 1930 годов, и кульминацией его стала вторая мировая война'"
      ]
     },
     "execution_count": 32,
     "metadata": {},
     "output_type": "execute_result"
    }
   ],
   "source": [
    "process('''\n",
    "кошмар, который он разглядел, продолжался в течение великой депрессии 1930 годов,\n",
    "и кульминацией его стала вторая мировая война\n",
    "''')"
   ]
  },
  {
   "cell_type": "code",
   "execution_count": 27,
   "metadata": {},
   "outputs": [
    {
     "data": {
      "text/plain": [
       "'Параллель эффекта Унру с излучением Хокинга в том, что в первом случае наблюдатель, ускоряясь в плоском пространстве, регистрирует в нём, фотоны которых не было до его ускорения. Во втором же случае фотоны появляются в пространстве, ускоряющемся к ЧД'"
      ]
     },
     "execution_count": 27,
     "metadata": {},
     "output_type": "execute_result"
    }
   ],
   "source": [
    "process('''\n",
    "параллель эффекта Унру с излучением Хокинга в том что в первом случае наблюдатель\n",
    "ускоряясь в плоском пространстве регистрирует в нём фотоны которых не было до его ускорения\n",
    "во втором же случае фотоны появляются в пространстве ускоряющемся к ЧД\n",
    "''')"
   ]
  },
  {
   "cell_type": "code",
   "execution_count": 22,
   "metadata": {},
   "outputs": [
    {
     "data": {
      "text/plain": [
       "'Из книги Хоккинга это никак не очевидно. Его книга. На мой взгляд, не профессионала, очень путанная. Там трудно понять, где гипотезы Хокинга, где установленные факты, где метафоры, где реальные процессы, где шутки, где серьезно'"
      ]
     },
     "execution_count": 22,
     "metadata": {},
     "output_type": "execute_result"
    }
   ],
   "source": [
    "process('''\n",
    "из книги Хоккинга это никак не очевидно его книга на мой взгляд не профессионала очень путанная \n",
    "там трудно понять где гипотезы Хокинга где установленные факты где метафоры где реальные процессы\n",
    "где шутки где серьезно\n",
    "''')"
   ]
  },
  {
   "cell_type": "code",
   "execution_count": 16,
   "metadata": {},
   "outputs": [
    {
     "data": {
      "text/plain": [
       "'Снова эта дебильная работа,(p:0.91) почему кожанные мешки не могут сами расставить точки в предложениях.(p:0.46) Это же так просто'"
      ]
     },
     "execution_count": 16,
     "metadata": {},
     "output_type": "execute_result"
    }
   ],
   "source": [
    "process(\n",
    "\"Снова эта дебильная работа почему кожанные мешки не могут сами расставить точки в предложениях это же так просто\"\n",
    ")"
   ]
  },
  {
   "cell_type": "code",
   "execution_count": 12,
   "metadata": {},
   "outputs": [
    {
     "data": {
      "text/plain": [
       "'На сайте министерства появилась схема парадов,(p:1.00) которые будут проведены в 26 городах россии.(p:1.00) Согласно этому документу,(p:0.85) только в петербурге и москве будет задействована военная авиация.(p:0.74) 45 единиц техники,(p:0.70) вертолетов и самолетов будет продемонстрировано в северной столице 9 мая'"
      ]
     },
     "execution_count": 12,
     "metadata": {},
     "output_type": "execute_result"
    }
   ],
   "source": [
    "process(\"\"\"\n",
    "На сайте министерства появилась схема парадов, которые будут проведены в 26 городах России. \n",
    "Согласно этому документу, только в Петербурге и Москве будет задействована военная авиация. \n",
    "45 единиц техники вертолетов и самолетов, будет продемонстрировано в Северной столице 9 мая.\n",
    "\"\"\")"
   ]
  },
  {
   "cell_type": "code",
   "execution_count": 48,
   "metadata": {},
   "outputs": [
    {
     "data": {
      "text/plain": [
       "'и еще папку с <unknown> моделями.(p:0.83) <Unknown> очень некомфортно,(p:0.96) когда <unknown>,(p:0.99) что результаты многих часов работы компьютера можно потерять <unknown> одной кнопки'"
      ]
     },
     "execution_count": 48,
     "metadata": {},
     "output_type": "execute_result"
    }
   ],
   "source": [
    "process(show_unknown=True, s=\"\"\"\n",
    "И еще папку с обученными моделями забекапил. \n",
    "Очень некомфортно, когда осознаешь, что результаты многих часов работы компьютера\n",
    "можно потерять нажатием одной кнопки \n",
    "\"\"\")"
   ]
  },
  {
   "cell_type": "code",
   "execution_count": 43,
   "metadata": {},
   "outputs": [
    {
     "data": {
      "text/plain": [
       "'какие-то закономерности определенно нашла,(p:0.79) но это,(p:0.84) пожалуй,(p:0.97) наиболее удачный пример'"
      ]
     },
     "execution_count": 43,
     "metadata": {},
     "output_type": "execute_result"
    }
   ],
   "source": [
    "process(\"Какие-то закономерности определенно нашла, Но это, пожалуй, наиболее удачный пример\")"
   ]
  },
  {
   "cell_type": "code",
   "execution_count": 38,
   "metadata": {},
   "outputs": [
    {
     "data": {
      "text/plain": [
       "'это очень мало,(p:0.83) чтобы получить интересные результаты.(p:0.58) Скармливаешь кусок текста и ощущение,(p:1.00) что она случайным образом.(p:0.56) Знаки препинания ставит'"
      ]
     },
     "execution_count": 38,
     "metadata": {},
     "output_type": "execute_result"
    }
   ],
   "source": [
    "process(\"это очень мало, чтобы получить интересные результаты. Скармливаешь кусок текста и ощущение, что она случайным образом знаки препинания ставит\")"
   ]
  }
 ],
 "metadata": {
  "kernelspec": {
   "display_name": "Py3 NLP",
   "language": "python",
   "name": "nlp"
  },
  "language_info": {
   "codemirror_mode": {
    "name": "ipython",
    "version": 3
   },
   "file_extension": ".py",
   "mimetype": "text/x-python",
   "name": "python",
   "nbconvert_exporter": "python",
   "pygments_lexer": "ipython3",
   "version": "3.5.2"
  }
 },
 "nbformat": 4,
 "nbformat_minor": 2
}
